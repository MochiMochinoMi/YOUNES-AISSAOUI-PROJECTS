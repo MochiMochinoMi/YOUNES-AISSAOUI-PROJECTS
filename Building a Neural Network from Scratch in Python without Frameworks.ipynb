{
 "cells": [
  {
   "cell_type": "code",
   "execution_count": 3,
   "id": "c78338af",
   "metadata": {},
   "outputs": [],
   "source": [
    "import pandas as pd\n",
    "import numpy as np\n",
    "data = pd.read_csv('C:/Users/YOUNES/jup/fashion-mnist_test.csv/fashion-mnist_train.csv')"
   ]
  },
  {
   "cell_type": "code",
   "execution_count": 4,
   "id": "1cf51eaa",
   "metadata": {},
   "outputs": [],
   "source": [
    "data = np.array(data)\n",
    "x_train = data[:,1:] / 255.\n",
    "y_train = data[:,0]"
   ]
  },
  {
   "cell_type": "code",
   "execution_count": 5,
   "id": "8a60ac61",
   "metadata": {},
   "outputs": [],
   "source": [
    "def iniparms():\n",
    "    W1 = np.random.uniform(-1,1,(128,784))\n",
    "    W2 = np.random.uniform(-1,1,(10,128))\n",
    "    B1 = np.random.uniform(-1,1,(128,1))\n",
    "    B2 = np.random.uniform(-1,1,(10,1))\n",
    "    return W1,W2,B1,B2\n",
    "\n",
    "def relu(x):\n",
    "    return np.maximum(x,0)\n",
    "def drelu(x):\n",
    "    return np.where(x<0 ,0 ,1)\n",
    "\n",
    "def softmax(x):\n",
    "    p = np.exp(x)/ np.sum(np.exp(x),axis=0)\n",
    "    return p\n",
    "    \n",
    "def one_hot_encode(vector):\n",
    "    unique_values = np.unique(vector)\n",
    "    num_values = len(unique_values)\n",
    "    encoding = np.zeros((len(vector), num_values), dtype=int)\n",
    "    for i, value in enumerate(vector):\n",
    "        index = np.where(unique_values == value)[0]\n",
    "        encoding[i, index] = 1 \n",
    "    return encoding\n",
    "\n",
    "def fprop(x,W1,W2,B1,B2):\n",
    "    Z1 = W1.dot(x.T) + B1\n",
    "    A1 = relu(Z1)\n",
    "    Z2 = W2.dot(A1)+B2\n",
    "    A2=softmax(Z2)\n",
    "    return Z1,Z2,A1,A2\n",
    "def bprop(x,y,Z1,Z2,A1,A2,W2):\n",
    "    DZ2 = A2 - one_hot_encode(y).T\n",
    "    DW2 = 1/len(y)* DZ2.dot(A1.T)\n",
    "    DB2 = 1/len(y)* np.sum(DZ2)\n",
    "    \n",
    "    DZ1 = W2.T.dot(DZ2)*drelu(Z1)\n",
    "    DW1 = 1/len(y)* DZ1.dot(x)\n",
    "    DB1 = 1/len(y)* np.sum(DZ1)\n",
    "    return DW1 , DW2 , DB1,DB2\n",
    "\n",
    "def NN(x,y,W1,W2,B1,B2,LR=0.1,n=1000):\n",
    "    j=0\n",
    "    while j < n:\n",
    "        Z1,Z2,A1,A2 = fprop(x,W1,W2,B1,B2)\n",
    "        DW1 , DW2 , DB1,DB2 = bprop(x,y,Z1,Z2,A1,A2,W2)\n",
    "        W2 = W2 - LR * DW2\n",
    "        W1 = W1 - LR * DW1\n",
    "        B1 = B1 - LR * DB1\n",
    "        B2 = B2 - LR * DB2\n",
    "        if j % 20 == 0:\n",
    "            pred = np.argmax(A2,axis=0)\n",
    "            print('ACC: ', np.mean(pred == y)*100)\n",
    "        j = j +1 \n",
    "    return W1,W2,B1,B2"
   ]
  },
  {
   "cell_type": "code",
   "execution_count": 6,
   "id": "5f5ad896",
   "metadata": {},
   "outputs": [
    {
     "name": "stdout",
     "output_type": "stream",
     "text": [
      "ACC:  7.956666666666666\n",
      "ACC:  50.52166666666666\n",
      "ACC:  54.06666666666666\n",
      "ACC:  56.361666666666665\n",
      "ACC:  58.285\n",
      "ACC:  59.67333333333333\n",
      "ACC:  60.906666666666666\n",
      "ACC:  61.875\n",
      "ACC:  62.68166666666667\n",
      "ACC:  63.391666666666666\n",
      "ACC:  64.09\n",
      "ACC:  64.70333333333333\n",
      "ACC:  65.315\n",
      "ACC:  65.78333333333333\n",
      "ACC:  66.26833333333333\n",
      "ACC:  66.735\n",
      "ACC:  67.125\n",
      "ACC:  67.56833333333333\n",
      "ACC:  67.92833333333334\n",
      "ACC:  68.25833333333333\n",
      "ACC:  68.595\n",
      "ACC:  68.88833333333334\n",
      "ACC:  69.245\n",
      "ACC:  68.53833333333334\n",
      "ACC:  68.91333333333334\n",
      "ACC:  69.345\n",
      "ACC:  69.62333333333333\n",
      "ACC:  69.89999999999999\n",
      "ACC:  70.165\n",
      "ACC:  70.44500000000001\n",
      "ACC:  70.67833333333333\n",
      "ACC:  70.96833333333333\n",
      "ACC:  71.25833333333334\n",
      "ACC:  71.49666666666667\n",
      "ACC:  71.69\n",
      "ACC:  71.86666666666667\n",
      "ACC:  72.015\n",
      "ACC:  72.205\n",
      "ACC:  72.37333333333333\n",
      "ACC:  72.55666666666667\n",
      "ACC:  72.71833333333333\n",
      "ACC:  72.86333333333333\n",
      "ACC:  73.005\n",
      "ACC:  73.15\n",
      "ACC:  73.33333333333333\n",
      "ACC:  73.44666666666667\n",
      "ACC:  73.57666666666667\n",
      "ACC:  73.69833333333334\n",
      "ACC:  73.82666666666667\n",
      "ACC:  73.94\n"
     ]
    }
   ],
   "source": [
    "W1,W2,B1,B2 =iniparms()\n",
    "W1,W2,B1,B2 = NN(x_train,y_train,W1,W2,B1,B2,LR=0.1,n=1000)"
   ]
  },
  {
   "cell_type": "code",
   "execution_count": 12,
   "id": "b797b6d4",
   "metadata": {},
   "outputs": [],
   "source": [
    "def predict(x,y,W1 , W2  ,B1, B2):\n",
    "    _,_,_,PA3 = fprop(x,W1,W2,B1,B2)\n",
    "    tpredictions = np.argmax(PA3, axis=0)\n",
    "    taccuracy = np.mean(tpredictions == y) * 100\n",
    "    return tpredictions , taccuracy\n",
    "\n",
    "import matplotlib.pyplot as plt\n",
    "def pva(tpredictions,y_test,n):\n",
    "    L  = [\"T-shirt/top\" , 'Trouser' , 'Pullover' , 'Dress' , 'Coat' , 'Sandal', 'Shirt' ,'Sneaker','Bag','Ankle boot']\n",
    "    print('Prediction is', L[tpredictions[n]])\n",
    "    print(\"Actual is\", L[y_test[n]])\n",
    "    image = x_test[n,0:].reshape((28, 28))\n",
    "    plt.imshow(image, cmap='gray', interpolation='none')\n",
    "    plt.axis('off')\n",
    "    plt.show()"
   ]
  },
  {
   "cell_type": "code",
   "execution_count": 7,
   "id": "e84db35a",
   "metadata": {},
   "outputs": [],
   "source": [
    "tdata = pd.read_csv('C:/Users/YOUNES/jup/fashion-mnist_test.csv/fashion-mnist_test.csv')\n",
    "tdata = np.array(tdata)\n",
    "x_test = tdata[:,1:] / 255.\n",
    "y_test = tdata[:,0]"
   ]
  },
  {
   "cell_type": "code",
   "execution_count": 18,
   "id": "22e7972b",
   "metadata": {},
   "outputs": [],
   "source": [
    "tpredictions , taccuracy = predict(x_test,y_test,W1 , W2  ,B1, B2)"
   ]
  },
  {
   "cell_type": "code",
   "execution_count": 19,
   "id": "ae4cf3ee",
   "metadata": {},
   "outputs": [
    {
     "data": {
      "text/plain": [
       "73.92"
      ]
     },
     "execution_count": 19,
     "metadata": {},
     "output_type": "execute_result"
    }
   ],
   "source": [
    "taccuracy"
   ]
  },
  {
   "cell_type": "code",
   "execution_count": 23,
   "id": "4ebd797b",
   "metadata": {},
   "outputs": [
    {
     "name": "stdout",
     "output_type": "stream",
     "text": [
      "Prediction is Trouser\n",
      "Actual is Trouser\n"
     ]
    },
    {
     "data": {
      "image/png": "[encoded data removed]",
      "text/plain": [
       "<Figure size 640x480 with 1 Axes>"
      ]
     },
     "metadata": {},
     "output_type": "display_data"
    }
   ],
   "source": [
    "pva(tpredictions,y_test,23)"
   ]
  }
 ],
 "metadata": {
  "kernelspec": {
   "display_name": "Python 3 (ipykernel)",
   "language": "python",
   "name": "python3"
  },
  "language_info": {
   "codemirror_mode": {
    "name": "ipython",
    "version": 3
   },
   "file_extension": ".py",
   "mimetype": "text/x-python",
   "name": "python",
   "nbconvert_exporter": "python",
   "pygments_lexer": "ipython3",
   "version": "3.10.5"
  }
 },
 "nbformat": 4,
 "nbformat_minor": 5
}
